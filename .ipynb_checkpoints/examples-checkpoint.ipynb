{
 "cells": [
  {
   "cell_type": "markdown",
   "metadata": {},
   "source": [
    "# HELLO :D"
   ]
  },
  {
   "cell_type": "code",
   "execution_count": 1,
   "metadata": {},
   "outputs": [],
   "source": [
    "from ipywidgets import interact, widgets\n",
    "from IPython.core.display import display, HTML"
   ]
  },
  {
   "cell_type": "markdown",
   "metadata": {},
   "source": [
    "## Example 1"
   ]
  },
  {
   "cell_type": "code",
   "execution_count": 2,
   "metadata": {},
   "outputs": [
    {
     "data": {
      "application/vnd.jupyter.widget-view+json": {
       "model_id": "8e647b4a638f452890611fb69eaa9d40",
       "version_major": 2,
       "version_minor": 0
      },
      "text/plain": [
       "interactive(children=(IntSlider(value=50, description='x', step=10), Output()), _dom_classes=('widget-interact…"
      ]
     },
     "metadata": {},
     "output_type": "display_data"
    }
   ],
   "source": [
    "def square(x):\n",
    "    return x*x\n",
    "\n",
    "interact(square, x=(0,100,10));"
   ]
  },
  {
   "cell_type": "markdown",
   "metadata": {},
   "source": [
    "## Example 2"
   ]
  },
  {
   "cell_type": "code",
   "execution_count": 3,
   "metadata": {},
   "outputs": [
    {
     "data": {
      "application/vnd.jupyter.widget-view+json": {
       "model_id": "d846fd7560764e6dac7245059960b5ce",
       "version_major": 2,
       "version_minor": 0
      },
      "text/plain": [
       "interactive(children=(Text(value='Jiyeon', description='name'), IntSlider(value=5, description='number', max=1…"
      ]
     },
     "metadata": {},
     "output_type": "display_data"
    }
   ],
   "source": [
    "def friends(name, number):\n",
    "    html = ''\n",
    "    html+=\"<span style='background-color:rgba(255, 99, 71, 0.6)'>{} </span>\".format(name) + ' has'\n",
    "    html+=\"<span style='background-color:rgba(255, 99, 71, 0.6)'>{} </span>\".format(number) + ' friends!'\n",
    "    return(display(HTML(html)))\n",
    "\n",
    "interact(friends, name='Jiyeon', number=(0,10,1));"
   ]
  },
  {
   "cell_type": "markdown",
   "metadata": {},
   "source": [
    "## Example 3"
   ]
  },
  {
   "cell_type": "code",
   "execution_count": 4,
   "metadata": {},
   "outputs": [
    {
     "data": {
      "application/vnd.jupyter.widget-view+json": {
       "model_id": "5466a610614e4d0a83edc991db009527",
       "version_major": 2,
       "version_minor": 0
      },
      "text/plain": [
       "Textarea(value='', description='How are you', placeholder='Type something')"
      ]
     },
     "metadata": {},
     "output_type": "display_data"
    }
   ],
   "source": [
    "widgets.Textarea(\n",
    "    placeholder='Type something',\n",
    "    description='How are you',\n",
    "    disabled=False\n",
    ")"
   ]
  },
  {
   "cell_type": "code",
   "execution_count": 5,
   "metadata": {},
   "outputs": [
    {
     "data": {
      "application/vnd.jupyter.widget-view+json": {
       "model_id": "0e36de40a71d434cb63825fe49373f7f",
       "version_major": 2,
       "version_minor": 0
      },
      "text/plain": [
       "Text(value='', description='Memo:', placeholder='Type anything!')"
      ]
     },
     "metadata": {},
     "output_type": "display_data"
    }
   ],
   "source": [
    "text = widgets.Text(\n",
    "    #value='last',\n",
    "    placeholder='Type anything!',\n",
    "    description='Memo:',\n",
    "    disabled=False\n",
    ")\n",
    "display(text)\n",
    "\n",
    "def callback(wdgt):\n",
    "    # replace by something useful\n",
    "    display(wdgt.value)\n",
    "\n",
    "text.on_submit(callback)"
   ]
  },
  {
   "cell_type": "markdown",
   "metadata": {},
   "source": [
    "# Example 4"
   ]
  },
  {
   "cell_type": "code",
   "execution_count": 6,
   "metadata": {},
   "outputs": [
    {
     "data": {
      "application/vnd.jupyter.widget-view+json": {
       "model_id": "6093630fd5ac4c04b245887e77596c77",
       "version_major": 2,
       "version_minor": 0
      },
      "text/plain": [
       "Label(value='First input')"
      ]
     },
     "metadata": {},
     "output_type": "display_data"
    },
    {
     "data": {
      "application/vnd.jupyter.widget-view+json": {
       "model_id": "89c0649c6ee4403f941a63b23c881dab",
       "version_major": 2,
       "version_minor": 0
      },
      "text/plain": [
       "Textarea(value='', description='Name:', placeholder='Type something')"
      ]
     },
     "metadata": {},
     "output_type": "display_data"
    },
    {
     "data": {
      "application/vnd.jupyter.widget-view+json": {
       "model_id": "11f63f52a39d4143b685ce8a63a8cf98",
       "version_major": 2,
       "version_minor": 0
      },
      "text/plain": [
       "Label(value='Second input')"
      ]
     },
     "metadata": {},
     "output_type": "display_data"
    },
    {
     "data": {
      "application/vnd.jupyter.widget-view+json": {
       "model_id": "f41388bf6f544cdbb777ed65f718a957",
       "version_major": 2,
       "version_minor": 0
      },
      "text/plain": [
       "Textarea(value='', description='Name:', placeholder='Type something')"
      ]
     },
     "metadata": {},
     "output_type": "display_data"
    },
    {
     "data": {
      "application/vnd.jupyter.widget-view+json": {
       "model_id": "298b2920feb0477da9c17a7728b52497",
       "version_major": 2,
       "version_minor": 0
      },
      "text/plain": [
       "Button(description='Submit', style=ButtonStyle())"
      ]
     },
     "metadata": {},
     "output_type": "display_data"
    },
    {
     "data": {
      "application/vnd.jupyter.widget-view+json": {
       "model_id": "e11d63c9c4c94db6988a3246309639c0",
       "version_major": 2,
       "version_minor": 0
      },
      "text/plain": [
       "Label(value='Result :')"
      ]
     },
     "metadata": {},
     "output_type": "display_data"
    },
    {
     "data": {
      "text/html": [
       "<span style='background-color:rgba(255, 99, 71, 0.6)'>Yes </span>and<span style='background-color:rgba(255, 99, 71, 0.6)'>No </span>"
      ],
      "text/plain": [
       "<IPython.core.display.HTML object>"
      ]
     },
     "metadata": {},
     "output_type": "display_data"
    }
   ],
   "source": [
    "lab1 = widgets.Label('First input')\n",
    "display(lab1)\n",
    "text1 = widgets.Textarea(placeholder='Type something', description='Name:', disabled=False)\n",
    "# text1 = widgets.Text()\n",
    "display(text1)\n",
    "\n",
    "lab2 = widgets.Label('Second input')\n",
    "display(lab2)\n",
    "text2 = widgets.Textarea(placeholder='Type something', description='Name:', disabled=False)\n",
    "display(text2)\n",
    "\n",
    "button = widgets.Button(description='Submit')\n",
    "display(button)\n",
    "\n",
    "lab3 = widgets.Label('Result :')\n",
    "display(lab3)\n",
    "\n",
    "def submit(b):\n",
    "    name1 = str(text1.value)\n",
    "    name2 = str(text2.value)\n",
    "    #lab3.value = HTML(\"<span style='background-color:rgba(255, 99, 71, 0.6)'>{} </span>\".format(name1) + 'and' + \"<span style='background-color:rgba(255, 99, 71, 0.6)'>{} </span>\".format(name2))\n",
    "    return(display(HTML(\"<span style='background-color:rgba(255, 99, 71, 0.6)'>{} </span>\".format(name1) + 'and' + \"<span style='background-color:rgba(255, 99, 71, 0.6)'>{} </span>\".format(name2))))\n",
    "    #return(display(lab3.value))\n",
    "\n",
    "button.on_click(submit)"
   ]
  }
 ],
 "metadata": {
  "kernelspec": {
   "display_name": "Python 3",
   "language": "python",
   "name": "python3"
  },
  "language_info": {
   "codemirror_mode": {
    "name": "ipython",
    "version": 3
   },
   "file_extension": ".py",
   "mimetype": "text/x-python",
   "name": "python",
   "nbconvert_exporter": "python",
   "pygments_lexer": "ipython3",
   "version": "3.7.8"
  }
 },
 "nbformat": 4,
 "nbformat_minor": 4
}
